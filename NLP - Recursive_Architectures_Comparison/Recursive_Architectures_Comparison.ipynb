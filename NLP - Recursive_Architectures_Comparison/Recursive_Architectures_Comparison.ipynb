{
  "cells": [
    {
      "cell_type": "markdown",
      "metadata": {
        "id": "zK2buGHYO118"
      },
      "source": [
        "# **Dataset Preparation:**\n",
        "\n"
      ]
    },
    {
      "cell_type": "code",
      "execution_count": 72,
      "metadata": {
        "id": "uKqMIkE5H5-L"
      },
      "outputs": [],
      "source": [
        "import tensorflow_datasets as tfds\n",
        "\n",
        "imbd, _ = tfds.load(\"imdb_reviews\", with_info=True, as_supervised=True)"
      ]
    },
    {
      "cell_type": "code",
      "execution_count": 73,
      "metadata": {
        "id": "I7dQEU4fRw3W"
      },
      "outputs": [],
      "source": [
        "import numpy as np\n",
        "\n",
        "train_data, test_data = imbd['train'], imbd[\"test\"]\n",
        "\n",
        "training_sentences = []\n",
        "training_labels = []\n",
        "\n",
        "testing_sentences = []\n",
        "testing_labels = []\n",
        "\n",
        "for sentence, label in train_data:\n",
        "  training_sentences.append(sentence.numpy().decode('utf8'))\n",
        "  training_labels.append(label.numpy())\n",
        "\n",
        "for sentence, label in test_data:\n",
        "  testing_sentences.append(sentence.numpy().decode('utf8'))\n",
        "  testing_labels.append(label.numpy())\n",
        "\n",
        "training_labels = np.array(training_labels)\n",
        "testing_labels = np.array(testing_labels)"
      ]
    },
    {
      "cell_type": "code",
      "execution_count": 74,
      "metadata": {
        "colab": {
          "base_uri": "https://localhost:8080/"
        },
        "id": "sQbUJ8NzP1S9",
        "outputId": "535331ad-44f2-411c-d747-995fff348288"
      },
      "outputs": [
        {
          "output_type": "stream",
          "name": "stdout",
          "text": [
            "Review:  This was an absolutely terrible movie. Don't be lured in by Christopher Walken or Michael Ironside. Both are great actors, but this must simply be their worst role in history. Even their great acting could not redeem this movie's ridiculous storyline. This movie is an early nineties US propaganda piece. The most pathetic scenes were those when the Columbian rebels were making their cases for revolutions. Maria Conchita Alonso appeared phony, and her pseudo-love affair with Walken was nothing but a pathetic emotional plug in a movie that was devoid of any real meaning. I am disappointed that there are movies like this, ruining actor's like Christopher Walken's good name. I could barely sit through it.\n",
            "Label:  0\n",
            "Review:  I have been known to fall asleep during films, but this is usually due to a combination of things including, really tired, being warm and comfortable on the sette and having just eaten a lot. However on this occasion I fell asleep because the film was rubbish. The plot development was constant. Constantly slow and boring. Things seemed to happen, but with no explanation of what was causing them or why. I admit, I may have missed part of the film, but i watched the majority of it and everything just seemed to happen of its own accord without any real concern for anything else. I cant recommend this film at all.\n",
            "Label:  0\n",
            "Review:  Mann photographs the Alberta Rocky Mountains in a superb fashion, and Jimmy Stewart and Walter Brennan give enjoyable performances as they always seem to do. <br /><br />But come on Hollywood - a Mountie telling the people of Dawson City, Yukon to elect themselves a marshal (yes a marshal!) and to enforce the law themselves, then gunfighters battling it out on the streets for control of the town? <br /><br />Nothing even remotely resembling that happened on the Canadian side of the border during the Klondike gold rush. Mr. Mann and company appear to have mistaken Dawson City for Deadwood, the Canadian North for the American Wild West.<br /><br />Canadian viewers be prepared for a Reefer Madness type of enjoyable howl with this ludicrous plot, or, to shake your head in disgust.\n",
            "Label:  0\n",
            "Review:  This is the kind of film for a snowy Sunday afternoon when the rest of the world can go ahead with its own business as you descend into a big arm-chair and mellow for a couple of hours. Wonderful performances from Cher and Nicolas Cage (as always) gently row the plot along. There are no rapids to cross, no dangerous waters, just a warm and witty paddle through New York life at its best. A family film in every sense and one that deserves the praise it received.\n",
            "Label:  1\n",
            "Review:  As others have mentioned, all the women that go nude in this film are mostly absolutely gorgeous. The plot very ably shows the hypocrisy of the female libido. When men are around they want to be pursued, but when no \"men\" are around, they become the pursuers of a 14 year old boy. And the boy becomes a man really fast (we should all be so lucky at this age!). He then gets up the courage to pursue his true love.\n",
            "Label:  1\n"
          ]
        }
      ],
      "source": [
        "for example in train_data.take(5):\n",
        "  review = example[0].numpy().decode('utf8')\n",
        "  label = example[1].numpy()\n",
        "  print(\"Review: \", review)\n",
        "  print(\"Label: \", label)"
      ]
    },
    {
      "cell_type": "markdown",
      "metadata": {
        "id": "Cbeqm5ldSZ3d"
      },
      "source": [
        "# **Preprocessing:**"
      ]
    },
    {
      "cell_type": "code",
      "execution_count": 75,
      "metadata": {
        "id": "ohIKWuBvP539"
      },
      "outputs": [],
      "source": [
        "num_words = 10000\n",
        "embedding_dim = 16\n",
        "max_length = 120\n",
        "trunc_type = 'post'\n",
        "oov_token = \"<OOV>\""
      ]
    },
    {
      "cell_type": "code",
      "execution_count": 76,
      "metadata": {
        "id": "AYHNmBuuStVh"
      },
      "outputs": [],
      "source": [
        "from tensorflow.keras.preprocessing.text import Tokenizer\n",
        "from tensorflow.keras.preprocessing.sequence import pad_sequences\n",
        "\n",
        "tokenizer = Tokenizer(num_words=num_words, oov_token=oov_token)\n",
        "tokenizer.fit_on_texts(training_sentences)\n",
        "word_index = tokenizer.word_index"
      ]
    },
    {
      "cell_type": "code",
      "execution_count": 78,
      "metadata": {
        "id": "IkyCZrHCTmzu"
      },
      "outputs": [],
      "source": [
        "sequences = tokenizer.texts_to_sequences(training_sentences)\n",
        "padded = pad_sequences(sequences, maxlen=max_length, truncating=trunc_type)"
      ]
    },
    {
      "cell_type": "code",
      "execution_count": 95,
      "metadata": {
        "colab": {
          "base_uri": "https://localhost:8080/"
        },
        "id": "YtISTKu0Uvyb",
        "outputId": "e6fd332c-31e1-4339-ed09-01500cf5bf4f"
      },
      "outputs": [
        {
          "output_type": "stream",
          "name": "stdout",
          "text": [
            "This was an absolutely terrible movie. Don't be lured in by Christopher Walken or Michael Ironside. Both are great actors, but this must simply be their worst role in history. Even their great acting could not redeem this movie's ridiculous storyline. This movie is an early nineties US propaganda piece. The most pathetic scenes were those when the Columbian rebels were making their cases for revolutions. Maria Conchita Alonso appeared phony, and her pseudo-love affair with Walken was nothing but a pathetic emotional plug in a movie that was devoid of any real meaning. I am disappointed that there are movies like this, ruining actor's like Christopher Walken's good name. I could barely sit through it.\n",
            "[12, 14, 33, 425, 392, 18, 90, 28, 1, 9, 32, 1366, 3585, 40, 486, 1, 197, 24, 85, 154, 19, 12, 213, 329, 28, 66, 247, 215, 9, 477, 58, 66, 85, 114, 98, 22, 5675, 12, 1322, 643, 767, 12, 18, 7, 33, 400, 8170, 176, 2455, 416, 2, 89, 1231, 137, 69, 146, 52, 2, 1, 7577, 69, 229, 66, 2933, 16, 1, 2904, 1, 1, 1479, 4940, 3, 39, 3900, 117, 1584, 17, 3585, 14, 162, 19, 4, 1231, 917, 7917, 9, 4, 18, 13, 14, 4139, 5, 99, 145, 1214, 11, 242, 683, 13, 48, 24, 100, 38, 12, 7181, 5515, 38, 1366, 1, 50, 401, 11, 98, 1197, 867, 141, 10]\n",
            "12: this,   14: was,   33: an,   425: absolutely,   392: terrible,   18: movie,   90: don't,   28: be,   1: <OOV>,   9: in,   32: by,   1366: christopher,   3585: walken,   40: or,   486: michael,   1: <OOV>,   197: both,   24: are,   85: great,   154: actors,   19: but,   12: this,   213: must,   329: simply,   28: be,   66: their,   247: worst,   215: role,   9: in,   477: history,   58: even,   66: their,   85: great,   114: acting,   98: could,   22: not,   5675: redeem,   12: this,   1322: movie's,   643: ridiculous,   767: storyline,   12: this,   18: movie,   7: is,   33: an,   400: early,   8170: nineties,   176: us,   2455: propaganda,   416: piece,   2: the,   89: most,   1231: pathetic,   137: scenes,   69: were,   146: those,   52: when,   2: the,   1: <OOV>,   7577: rebels,   69: were,   229: making,   66: their,   2933: cases,   16: for,   1: <OOV>,   2904: maria,   1: <OOV>,   1: <OOV>,   1479: appeared,   4940: phony,   3: and,   39: her,   3900: pseudo,   117: love,   1584: affair,   17: with,   3585: walken,   14: was,   162: nothing,   19: but,   4: a,   1231: pathetic,   917: emotional,   7917: plug,   9: in,   4: a,   18: movie,   13: that,   14: was,   4139: devoid,   5: of,   99: any,   145: real,   1214: meaning,   11: i,   242: am,   683: disappointed,   13: that,   48: there,   24: are,   100: movies,   38: like,   12: this,   7181: ruining,   5515: actor's,   38: like,   1366: christopher,   1: <OOV>,   50: good,   401: name,   11: i,   98: could,   1197: barely,   867: sit,   141: through,   10: it,   "
          ]
        }
      ],
      "source": [
        "sample_sentence = training_sentences[0]\n",
        "sample_sentence_sequence = sequences[0]\n",
        "word_index_words = list(word_index.keys())\n",
        "print(sample_sentence)\n",
        "print(sample_sentence_sequence)\n",
        "for number in sample_sentence_sequence:\n",
        "  print(f\"{number}: {word_index_words[number-1]},  \", end=\" \")"
      ]
    },
    {
      "cell_type": "code",
      "source": [],
      "metadata": {
        "id": "cVTGlt5BYnaP"
      },
      "execution_count": null,
      "outputs": []
    }
  ],
  "metadata": {
    "colab": {
      "provenance": []
    },
    "kernelspec": {
      "display_name": "Python 3",
      "name": "python3"
    },
    "language_info": {
      "name": "python"
    }
  },
  "nbformat": 4,
  "nbformat_minor": 0
}